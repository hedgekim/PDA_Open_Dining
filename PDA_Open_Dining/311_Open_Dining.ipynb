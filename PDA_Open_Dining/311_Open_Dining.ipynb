{
 "cells": [
  {
   "cell_type": "code",
   "execution_count": 29,
   "id": "780ba14c",
   "metadata": {},
   "outputs": [],
   "source": [
    "import matplotlib.pyplot as plt\n",
    "import numpy as np"
   ]
  },
  {
   "cell_type": "code",
   "execution_count": 2,
   "id": "433bb3d3",
   "metadata": {},
   "outputs": [],
   "source": [
    "import pandas as pd\n",
    "\n",
    "data = pd.read_csv('311_Service_Requests_from_2010_to_Present_Open_Dining.csv')"
   ]
  },
  {
   "cell_type": "code",
   "execution_count": null,
   "id": "a8c7581b",
   "metadata": {},
   "outputs": [],
   "source": [
    "# This dataset is all 311 complaints filed under the category \"open dining\", there are 9,487"
   ]
  },
  {
   "cell_type": "code",
   "execution_count": 5,
   "id": "86fa13e4",
   "metadata": {},
   "outputs": [
    {
     "data": {
      "text/plain": [
       "Index(['Unique Key', 'Created Date', 'Closed Date', 'Agency', 'Agency Name',\n",
       "       'Complaint Type', 'Descriptor', 'Location Type', 'Incident Zip',\n",
       "       'Incident Address', 'Street Name', 'Cross Street 1', 'Cross Street 2',\n",
       "       'Intersection Street 1', 'Intersection Street 2', 'Address Type',\n",
       "       'City', 'Landmark', 'Facility Type', 'Status', 'Due Date',\n",
       "       'Resolution Description', 'Resolution Action Updated Date',\n",
       "       'Community Board', 'BBL', 'Borough', 'X Coordinate (State Plane)',\n",
       "       'Y Coordinate (State Plane)', 'Open Data Channel Type',\n",
       "       'Park Facility Name', 'Park Borough', 'Vehicle Type',\n",
       "       'Taxi Company Borough', 'Taxi Pick Up Location', 'Bridge Highway Name',\n",
       "       'Bridge Highway Direction', 'Road Ramp', 'Bridge Highway Segment',\n",
       "       'Latitude', 'Longitude', 'Location'],\n",
       "      dtype='object')"
      ]
     },
     "execution_count": 5,
     "metadata": {},
     "output_type": "execute_result"
    }
   ],
   "source": [
    "data.columns"
   ]
  },
  {
   "cell_type": "code",
   "execution_count": 13,
   "id": "b1e572c9",
   "metadata": {
    "scrolled": false
   },
   "outputs": [],
   "source": [
    "#create a year column from the Created Date\n",
    "data['Year'] = pd.DatetimeIndex(data['Created Date']).year"
   ]
  },
  {
   "cell_type": "code",
   "execution_count": 14,
   "id": "c7c76cc6",
   "metadata": {},
   "outputs": [],
   "source": [
    "data['Month'] = pd.DatetimeIndex(data['Created Date']).month"
   ]
  },
  {
   "cell_type": "code",
   "execution_count": 20,
   "id": "bf0d9646",
   "metadata": {},
   "outputs": [],
   "source": [
    "data['Year_Month'] = pd.to_datetime(data[['Year', 'Month']].assign(DAY=1))"
   ]
  },
  {
   "cell_type": "code",
   "execution_count": 21,
   "id": "69ec45cd",
   "metadata": {},
   "outputs": [],
   "source": [
    "#complaints by boroughs"
   ]
  },
  {
   "cell_type": "code",
   "execution_count": 26,
   "id": "7514d6e3",
   "metadata": {},
   "outputs": [
    {
     "data": {
      "text/plain": [
       "Borough\n",
       "MANHATTAN        5039\n",
       "BROOKLYN         2343\n",
       "QUEENS           1711\n",
       "BRONX             292\n",
       "STATEN ISLAND      94\n",
       "Unspecified         8\n",
       "Name: Unique Key, dtype: int64"
      ]
     },
     "execution_count": 26,
     "metadata": {},
     "output_type": "execute_result"
    }
   ],
   "source": [
    "data.groupby('Borough')['Unique Key'].count().sort_values(ascending=False)"
   ]
  },
  {
   "cell_type": "code",
   "execution_count": 47,
   "id": "f6ee2ef1",
   "metadata": {},
   "outputs": [
    {
     "data": {
      "text/plain": [
       "<AxesSubplot:xlabel='Borough'>"
      ]
     },
     "execution_count": 47,
     "metadata": {},
     "output_type": "execute_result"
    },
    {
     "data": {
      "image/png": "[encoded data removed]",
      "text/plain": [
       "<Figure size 864x432 with 1 Axes>"
      ]
     },
     "metadata": {
      "needs_background": "light"
     },
     "output_type": "display_data"
    }
   ],
   "source": [
    "plt.figure(figsize = (12,6))\n",
    "data.groupby('Borough')['Unique Key'].count().sort_values(ascending=False).plot.bar(color = 'b')"
   ]
  },
  {
   "cell_type": "code",
   "execution_count": 22,
   "id": "2b8e1d2b",
   "metadata": {},
   "outputs": [],
   "source": [
    "#complaints over time"
   ]
  },
  {
   "cell_type": "code",
   "execution_count": 51,
   "id": "7543af95",
   "metadata": {},
   "outputs": [
    {
     "data": {
      "text/plain": [
       "Year_Month\n",
       "2020-07-01     882\n",
       "2020-08-01    1033\n",
       "2020-09-01     845\n",
       "2020-10-01     601\n",
       "2020-11-01     430\n",
       "2020-12-01     316\n",
       "2021-01-01     293\n",
       "2021-02-01     149\n",
       "2021-03-01     285\n",
       "2021-04-01     349\n",
       "2021-05-01     499\n",
       "2021-06-01     430\n",
       "2021-07-01     452\n",
       "2021-08-01     378\n",
       "2021-09-01     372\n",
       "2021-10-01     535\n",
       "2021-11-01     358\n",
       "2021-12-01     293\n",
       "2022-01-01     217\n",
       "2022-02-01     242\n",
       "2022-03-01     309\n",
       "2022-04-01     219\n",
       "Name: Unique Key, dtype: int64"
      ]
     },
     "execution_count": 51,
     "metadata": {},
     "output_type": "execute_result"
    }
   ],
   "source": [
    "data.groupby('Year_Month')['Unique Key'].count()"
   ]
  },
  {
   "cell_type": "code",
   "execution_count": 53,
   "id": "bb25aba3",
   "metadata": {},
   "outputs": [
    {
     "data": {
      "image/png": "[encoded data removed]",
      "text/plain": [
       "<Figure size 432x288 with 1 Axes>"
      ]
     },
     "metadata": {
      "needs_background": "light"
     },
     "output_type": "display_data"
    }
   ],
   "source": [
    "plt.plot(data.groupby('Year_Month')['Unique Key'].count())\n",
    "ax = plt.gca()\n",
    "ax.tick_params(axis='x', labelrotation = 45)"
   ]
  },
  {
   "cell_type": "code",
   "execution_count": 54,
   "id": "3f3a604a",
   "metadata": {},
   "outputs": [],
   "source": [
    "#types of total complaints by raw counts"
   ]
  },
  {
   "cell_type": "code",
   "execution_count": 72,
   "id": "29d7f0ae",
   "metadata": {},
   "outputs": [
    {
     "data": {
      "text/plain": [
       "Descriptor\n",
       "Sidewalk Zone Blocked      3759\n",
       "Site Setup Condition       2983\n",
       "Barrier Condition          1088\n",
       "Street Zone Blocked        1058\n",
       "Unauthorized Restaurant     309\n",
       "Table Not in Compliance     253\n",
       "ADA Ramp Missing             24\n",
       "Utility Cover Blocked         9\n",
       "Platform Condition            4\n",
       "Name: Descriptor, dtype: int64"
      ]
     },
     "execution_count": 72,
     "metadata": {},
     "output_type": "execute_result"
    }
   ],
   "source": [
    "data.groupby('Descriptor')['Descriptor'].count().sort_values(ascending=False)"
   ]
  },
  {
   "cell_type": "code",
   "execution_count": 73,
   "id": "239b293d",
   "metadata": {},
   "outputs": [
    {
     "data": {
      "text/plain": [
       "<AxesSubplot:xlabel='Descriptor'>"
      ]
     },
     "execution_count": 73,
     "metadata": {},
     "output_type": "execute_result"
    },
    {
     "data": {
      "image/png": "[encoded data removed]",
      "text/plain": [
       "<Figure size 864x432 with 1 Axes>"
      ]
     },
     "metadata": {
      "needs_background": "light"
     },
     "output_type": "display_data"
    }
   ],
   "source": [
    "plt.figure(figsize = (12,6))\n",
    "data.groupby('Descriptor')['Descriptor'].count().sort_values(ascending=False).plot.bar(color = 'b')"
   ]
  },
  {
   "cell_type": "code",
   "execution_count": 99,
   "id": "d89e8056",
   "metadata": {},
   "outputs": [
    {
     "data": {
      "text/html": [
       "<div>\n",
       "<style scoped>\n",
       "    .dataframe tbody tr th:only-of-type {\n",
       "        vertical-align: middle;\n",
       "    }\n",
       "\n",
       "    .dataframe tbody tr th {\n",
       "        vertical-align: top;\n",
       "    }\n",
       "\n",
       "    .dataframe thead th {\n",
       "        text-align: right;\n",
       "    }\n",
       "</style>\n",
       "<table border=\"1\" class=\"dataframe\">\n",
       "  <thead>\n",
       "    <tr style=\"text-align: right;\">\n",
       "      <th></th>\n",
       "      <th></th>\n",
       "      <th>Unique Key</th>\n",
       "    </tr>\n",
       "    <tr>\n",
       "      <th>Year</th>\n",
       "      <th>Descriptor</th>\n",
       "      <th></th>\n",
       "    </tr>\n",
       "  </thead>\n",
       "  <tbody>\n",
       "    <tr>\n",
       "      <th>2021</th>\n",
       "      <th>Sidewalk Zone Blocked</th>\n",
       "      <td>1801</td>\n",
       "    </tr>\n",
       "    <tr>\n",
       "      <th>2020</th>\n",
       "      <th>Sidewalk Zone Blocked</th>\n",
       "      <td>1642</td>\n",
       "    </tr>\n",
       "    <tr>\n",
       "      <th>2021</th>\n",
       "      <th>Site Setup Condition</th>\n",
       "      <td>1388</td>\n",
       "    </tr>\n",
       "    <tr>\n",
       "      <th>2020</th>\n",
       "      <th>Site Setup Condition</th>\n",
       "      <td>1166</td>\n",
       "    </tr>\n",
       "    <tr>\n",
       "      <th>2021</th>\n",
       "      <th>Barrier Condition</th>\n",
       "      <td>553</td>\n",
       "    </tr>\n",
       "    <tr>\n",
       "      <th>2020</th>\n",
       "      <th>Street Zone Blocked</th>\n",
       "      <td>507</td>\n",
       "    </tr>\n",
       "    <tr>\n",
       "      <th>2021</th>\n",
       "      <th>Street Zone Blocked</th>\n",
       "      <td>466</td>\n",
       "    </tr>\n",
       "    <tr>\n",
       "      <th>2022</th>\n",
       "      <th>Site Setup Condition</th>\n",
       "      <td>429</td>\n",
       "    </tr>\n",
       "    <tr>\n",
       "      <th>2020</th>\n",
       "      <th>Barrier Condition</th>\n",
       "      <td>410</td>\n",
       "    </tr>\n",
       "    <tr>\n",
       "      <th>2022</th>\n",
       "      <th>Sidewalk Zone Blocked</th>\n",
       "      <td>316</td>\n",
       "    </tr>\n",
       "    <tr>\n",
       "      <th>2020</th>\n",
       "      <th>Table Not in Compliance</th>\n",
       "      <td>253</td>\n",
       "    </tr>\n",
       "    <tr>\n",
       "      <th>2021</th>\n",
       "      <th>Unauthorized Restaurant</th>\n",
       "      <td>185</td>\n",
       "    </tr>\n",
       "    <tr>\n",
       "      <th>2022</th>\n",
       "      <th>Barrier Condition</th>\n",
       "      <td>125</td>\n",
       "    </tr>\n",
       "    <tr>\n",
       "      <th>2020</th>\n",
       "      <th>Unauthorized Restaurant</th>\n",
       "      <td>92</td>\n",
       "    </tr>\n",
       "    <tr>\n",
       "      <th rowspan=\"2\" valign=\"top\">2022</th>\n",
       "      <th>Street Zone Blocked</th>\n",
       "      <td>85</td>\n",
       "    </tr>\n",
       "    <tr>\n",
       "      <th>Unauthorized Restaurant</th>\n",
       "      <td>32</td>\n",
       "    </tr>\n",
       "    <tr>\n",
       "      <th rowspan=\"3\" valign=\"top\">2020</th>\n",
       "      <th>ADA Ramp Missing</th>\n",
       "      <td>24</td>\n",
       "    </tr>\n",
       "    <tr>\n",
       "      <th>Utility Cover Blocked</th>\n",
       "      <td>9</td>\n",
       "    </tr>\n",
       "    <tr>\n",
       "      <th>Platform Condition</th>\n",
       "      <td>4</td>\n",
       "    </tr>\n",
       "  </tbody>\n",
       "</table>\n",
       "</div>"
      ],
      "text/plain": [
       "                              Unique Key\n",
       "Year Descriptor                         \n",
       "2021 Sidewalk Zone Blocked          1801\n",
       "2020 Sidewalk Zone Blocked          1642\n",
       "2021 Site Setup Condition           1388\n",
       "2020 Site Setup Condition           1166\n",
       "2021 Barrier Condition               553\n",
       "2020 Street Zone Blocked             507\n",
       "2021 Street Zone Blocked             466\n",
       "2022 Site Setup Condition            429\n",
       "2020 Barrier Condition               410\n",
       "2022 Sidewalk Zone Blocked           316\n",
       "2020 Table Not in Compliance         253\n",
       "2021 Unauthorized Restaurant         185\n",
       "2022 Barrier Condition               125\n",
       "2020 Unauthorized Restaurant          92\n",
       "2022 Street Zone Blocked              85\n",
       "     Unauthorized Restaurant          32\n",
       "2020 ADA Ramp Missing                 24\n",
       "     Utility Cover Blocked             9\n",
       "     Platform Condition                4"
      ]
     },
     "execution_count": 99,
     "metadata": {},
     "output_type": "execute_result"
    }
   ],
   "source": [
    "year_desc_count = data.groupby(['Year', 'Descriptor'])[['Unique Key']].agg('count').sort_values(['Unique Key', 'Year'], ascending = False)\n",
    "year_desc_count"
   ]
  },
  {
   "cell_type": "code",
   "execution_count": 100,
   "id": "352228da",
   "metadata": {},
   "outputs": [
    {
     "data": {
      "text/plain": [
       "<AxesSubplot:xlabel='Year,Descriptor'>"
      ]
     },
     "execution_count": 100,
     "metadata": {},
     "output_type": "execute_result"
    },
    {
     "data": {
      "text/plain": [
       "<Figure size 864x432 with 0 Axes>"
      ]
     },
     "metadata": {},
     "output_type": "display_data"
    },
    {
     "data": {
      "image/png": "[encoded data removed]",
      "text/plain": [
       "<Figure size 432x288 with 1 Axes>"
      ]
     },
     "metadata": {
      "needs_background": "light"
     },
     "output_type": "display_data"
    }
   ],
   "source": [
    "plt.figure(figsize = (12,6))\n",
    "year_desc_count.plot.bar(color = 'b')"
   ]
  },
  {
   "cell_type": "code",
   "execution_count": null,
   "id": "5b22de3e",
   "metadata": {},
   "outputs": [],
   "source": []
  }
 ],
 "metadata": {
  "kernelspec": {
   "display_name": "Python 3 (ipykernel)",
   "language": "python",
   "name": "python3"
  },
  "language_info": {
   "codemirror_mode": {
    "name": "ipython",
    "version": 3
   },
   "file_extension": ".py",
   "mimetype": "text/x-python",
   "name": "python",
   "nbconvert_exporter": "python",
   "pygments_lexer": "ipython3",
   "version": "3.9.7"
  }
 },
 "nbformat": 4,
 "nbformat_minor": 5
}
