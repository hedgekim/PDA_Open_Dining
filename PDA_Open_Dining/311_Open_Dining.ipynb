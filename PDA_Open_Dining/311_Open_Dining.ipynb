{
 "cells": [
  {
   "cell_type": "code",
   "execution_count": 3,
   "id": "780ba14c",
   "metadata": {},
   "outputs": [],
   "source": [
    "import matplotlib.pyplot as plt\n",
    "import numpy as np\n",
    "import pandas as pd"
   ]
  },
  {
   "cell_type": "code",
   "execution_count": 164,
   "id": "7e3f88ce",
   "metadata": {},
   "outputs": [],
   "source": [
    "app = pd.read_csv('Open_Restaurant_Applications.csv')"
   ]
  },
  {
   "cell_type": "code",
   "execution_count": 167,
   "id": "9ffac51c",
   "metadata": {},
   "outputs": [
    {
     "data": {
      "text/plain": [
       "Index(['objectid', 'Seating Interest (Sidewalk/Roadway/Both)',\n",
       "       'Restaurant Name', 'Legal Business Name', 'Doing Business As (DBA)',\n",
       "       'Street', 'Borough', 'Postcode', 'Business Address',\n",
       "       'Sidewalk Dimensions (Length)', 'Sidewalk Dimensions (Width)',\n",
       "       'Sidewalk Dimensions (Area)', 'Roadway Dimensions (Length)',\n",
       "       'Roadway Dimensions (Width)', 'Roadway Dimensions (Area)',\n",
       "       'Approved for Sidewalk Seating', 'Approved for Roadway Seating',\n",
       "       'Qualify Alcohol', 'SLA License Type', 'Time of Submission', 'Latitude',\n",
       "       'Longitude', 'Community Board', 'Council District', 'Census Tract',\n",
       "       'BIN', 'BBL', 'NTA'],\n",
       "      dtype='object')"
      ]
     },
     "execution_count": 167,
     "metadata": {},
     "output_type": "execute_result"
    }
   ],
   "source": [
    "app.columns"
   ]
  },
  {
   "cell_type": "code",
   "execution_count": 172,
   "id": "e5fe4ad0",
   "metadata": {},
   "outputs": [
    {
     "data": {
      "text/plain": [
       "Borough\n",
       "Manhattan        6538\n",
       "Brooklyn         3279\n",
       "Queens           2601\n",
       "Bronx             711\n",
       "Staten Island     201\n",
       "Name: objectid, dtype: int64"
      ]
     },
     "execution_count": 172,
     "metadata": {},
     "output_type": "execute_result"
    }
   ],
   "source": [
    "app.groupby('Borough')['objectid'].count().sort_values(ascending=False)"
   ]
  },
  {
   "cell_type": "code",
   "execution_count": 175,
   "id": "30fee94a",
   "metadata": {},
   "outputs": [
    {
     "data": {
      "text/plain": [
       "<AxesSubplot:xlabel='Borough'>"
      ]
     },
     "execution_count": 175,
     "metadata": {},
     "output_type": "execute_result"
    },
    {
     "data": {
      "image/png": "[encoded data removed]",
      "text/plain": [
       "<Figure size 864x432 with 1 Axes>"
      ]
     },
     "metadata": {
      "needs_background": "light"
     },
     "output_type": "display_data"
    }
   ],
   "source": [
    "#total num of restaurants that applied for open dining by borough\n",
    "\n",
    "plt.figure(figsize = (12,6))\n",
    "app.groupby('Borough')['objectid'].count().sort_values(ascending=False).plot.bar(color = 'b')"
   ]
  },
  {
   "cell_type": "code",
   "execution_count": 208,
   "id": "7f5c1192",
   "metadata": {},
   "outputs": [],
   "source": [
    "borough_complaints = data.groupby('Borough')[['Unique Key']].count()\n",
    "borough_complaints.rename(columns={'Unique Key': 'Total Complaints'}, inplace=True)"
   ]
  },
  {
   "cell_type": "code",
   "execution_count": 220,
   "id": "4aab71d6",
   "metadata": {},
   "outputs": [],
   "source": [
    "borough_complaints.rename(index={'BRONX': 'Bronx', 'BROOKLYN':'Brooklyn', \n",
    "                                  'MANHATTAN': 'Manhattan', 'QUEENS':'Queens', \n",
    "                                  'STATEN ISLAND':'Staten Island'}, inplace=True)"
   ]
  },
  {
   "cell_type": "code",
   "execution_count": 213,
   "id": "1d405c1f",
   "metadata": {},
   "outputs": [],
   "source": [
    "borough_app = app.groupby('Borough')[['objectid']].count()\n",
    "borough_app.rename(columns={'objectid': 'Total Applications'}, inplace=True)"
   ]
  },
  {
   "cell_type": "code",
   "execution_count": 222,
   "id": "01036cee",
   "metadata": {},
   "outputs": [],
   "source": [
    "borough_app_comp = pd.concat([borough_app,borough_complaints], axis=1)"
   ]
  },
  {
   "cell_type": "code",
   "execution_count": 236,
   "id": "8392526a",
   "metadata": {},
   "outputs": [],
   "source": [
    "borough_app_comp.sort_values(by='Total Applications', ascending=False, inplace=True)"
   ]
  },
  {
   "cell_type": "code",
   "execution_count": 238,
   "id": "f181efde",
   "metadata": {},
   "outputs": [],
   "source": [
    "borough_app_comp.reset_index(inplace=True)"
   ]
  },
  {
   "cell_type": "code",
   "execution_count": 253,
   "id": "81ea9bae",
   "metadata": {},
   "outputs": [
    {
     "data": {
      "text/plain": [
       "<AxesSubplot:xlabel='Borough'>"
      ]
     },
     "execution_count": 253,
     "metadata": {},
     "output_type": "execute_result"
    },
    {
     "data": {
      "image/png": "[encoded data removed]",
      "text/plain": [
       "<Figure size 864x216 with 1 Axes>"
      ]
     },
     "metadata": {
      "needs_background": "light"
     },
     "output_type": "display_data"
    }
   ],
   "source": [
    "borough_app_comp.plot(kind='bar',x='Borough',y=['Total Applications', 'Total Complaints'])"
   ]
  },
  {
   "cell_type": "code",
   "execution_count": null,
   "id": "ad1771e7",
   "metadata": {},
   "outputs": [],
   "source": []
  },
  {
   "cell_type": "code",
   "execution_count": null,
   "id": "5e70e136",
   "metadata": {},
   "outputs": [],
   "source": []
  },
  {
   "cell_type": "code",
   "execution_count": null,
   "id": "63280f65",
   "metadata": {},
   "outputs": [],
   "source": []
  },
  {
   "cell_type": "code",
   "execution_count": null,
   "id": "cc2497bd",
   "metadata": {},
   "outputs": [],
   "source": []
  },
  {
   "cell_type": "code",
   "execution_count": null,
   "id": "56074a71",
   "metadata": {},
   "outputs": [],
   "source": []
  },
  {
   "cell_type": "code",
   "execution_count": null,
   "id": "04e0fbf5",
   "metadata": {},
   "outputs": [],
   "source": []
  },
  {
   "cell_type": "code",
   "execution_count": null,
   "id": "d1684dab",
   "metadata": {},
   "outputs": [],
   "source": []
  },
  {
   "cell_type": "code",
   "execution_count": null,
   "id": "1183351a",
   "metadata": {},
   "outputs": [],
   "source": []
  },
  {
   "cell_type": "code",
   "execution_count": null,
   "id": "9a861601",
   "metadata": {},
   "outputs": [],
   "source": []
  },
  {
   "cell_type": "code",
   "execution_count": null,
   "id": "5be94f3f",
   "metadata": {},
   "outputs": [],
   "source": []
  },
  {
   "cell_type": "code",
   "execution_count": 176,
   "id": "433bb3d3",
   "metadata": {},
   "outputs": [],
   "source": [
    "data = pd.read_csv('311_Service_Requests_from_2010_to_Present_Open_Dining.csv')"
   ]
  },
  {
   "cell_type": "code",
   "execution_count": 177,
   "id": "a8c7581b",
   "metadata": {},
   "outputs": [],
   "source": [
    "# This dataset is all 311 complaints filed under the category \"open dining\", there are 9,487"
   ]
  },
  {
   "cell_type": "code",
   "execution_count": 178,
   "id": "86fa13e4",
   "metadata": {},
   "outputs": [
    {
     "data": {
      "text/plain": [
       "Index(['Unique Key', 'Created Date', 'Closed Date', 'Agency', 'Agency Name',\n",
       "       'Complaint Type', 'Descriptor', 'Location Type', 'Incident Zip',\n",
       "       'Incident Address', 'Street Name', 'Cross Street 1', 'Cross Street 2',\n",
       "       'Intersection Street 1', 'Intersection Street 2', 'Address Type',\n",
       "       'City', 'Landmark', 'Facility Type', 'Status', 'Due Date',\n",
       "       'Resolution Description', 'Resolution',\n",
       "       'Resolution Action Updated Date', 'Community Board', 'BBL', 'Borough',\n",
       "       'X Coordinate (State Plane)', 'Y Coordinate (State Plane)',\n",
       "       'Open Data Channel Type', 'Park Facility Name', 'Park Borough',\n",
       "       'Vehicle Type', 'Taxi Company Borough', 'Taxi Pick Up Location',\n",
       "       'Bridge Highway Name', 'Bridge Highway Direction', 'Road Ramp',\n",
       "       'Bridge Highway Segment', 'Latitude', 'Longitude', 'Location'],\n",
       "      dtype='object')"
      ]
     },
     "execution_count": 178,
     "metadata": {},
     "output_type": "execute_result"
    }
   ],
   "source": [
    "data.columns"
   ]
  },
  {
   "cell_type": "code",
   "execution_count": 254,
   "id": "2f4600da",
   "metadata": {},
   "outputs": [
    {
     "data": {
      "text/plain": [
       "Index(['Unique Key', 'Created Date', 'Closed Date', 'Agency Name',\n",
       "       'Complaint Type', 'Descriptor', 'Location Type', 'Incident Zip',\n",
       "       'Incident Address', 'Street Name', 'Address Type', 'City', 'Landmark',\n",
       "       'Status', 'Resolution Description', 'Resolution',\n",
       "       'Resolution Action Updated Date', 'Borough',\n",
       "       'X Coordinate (State Plane)', 'Y Coordinate (State Plane)', 'Latitude',\n",
       "       'Longitude', 'Location', 'Year', 'Month', 'Year_Month'],\n",
       "      dtype='object')"
      ]
     },
     "execution_count": 254,
     "metadata": {},
     "output_type": "execute_result"
    }
   ],
   "source": [
    "data.columns"
   ]
  },
  {
   "cell_type": "code",
   "execution_count": 179,
   "id": "02246872",
   "metadata": {},
   "outputs": [],
   "source": [
    "#dropped unrelated columns\n",
    "\n",
    "data.drop(['Agency', 'Due Date', 'Facility Type', 'Cross Street 1', 'Cross Street 2', \n",
    "           'Intersection Street 1', 'Intersection Street 2', 'Community Board', 'BBL', \n",
    "           'Open Data Channel Type', 'Park Facility Name', 'Park Borough', 'Vehicle Type', \n",
    "           'Taxi Company Borough', 'Taxi Pick Up Location', 'Bridge Highway Name', 'Bridge Highway Direction',\n",
    "           'Road Ramp', 'Bridge Highway Segment'], axis = 1, inplace=True)"
   ]
  },
  {
   "cell_type": "code",
   "execution_count": 180,
   "id": "951ac7b9",
   "metadata": {},
   "outputs": [],
   "source": [
    "#remove unspecified boroughs\n",
    "\n",
    "data = data[data['Borough'] != 'Unspecified']"
   ]
  },
  {
   "cell_type": "code",
   "execution_count": 181,
   "id": "b1e572c9",
   "metadata": {
    "scrolled": false
   },
   "outputs": [],
   "source": [
    "#create a year column from the Created Date\n",
    "data['Year'] = pd.DatetimeIndex(data['Created Date']).year"
   ]
  },
  {
   "cell_type": "code",
   "execution_count": 182,
   "id": "c7c76cc6",
   "metadata": {},
   "outputs": [],
   "source": [
    "data['Month'] = pd.DatetimeIndex(data['Created Date']).month"
   ]
  },
  {
   "cell_type": "code",
   "execution_count": 183,
   "id": "bf0d9646",
   "metadata": {},
   "outputs": [],
   "source": [
    "data['Year_Month'] = pd.to_datetime(data[['Year', 'Month']].assign(DAY=1))"
   ]
  },
  {
   "cell_type": "code",
   "execution_count": 184,
   "id": "69ec45cd",
   "metadata": {},
   "outputs": [],
   "source": [
    "#complaints by boroughs"
   ]
  },
  {
   "cell_type": "code",
   "execution_count": 185,
   "id": "7514d6e3",
   "metadata": {},
   "outputs": [
    {
     "data": {
      "text/plain": [
       "Borough\n",
       "MANHATTAN        5039\n",
       "BROOKLYN         2343\n",
       "QUEENS           1711\n",
       "BRONX             292\n",
       "STATEN ISLAND      94\n",
       "Name: Unique Key, dtype: int64"
      ]
     },
     "execution_count": 185,
     "metadata": {},
     "output_type": "execute_result"
    }
   ],
   "source": [
    "data.groupby('Borough')['Unique Key'].count().sort_values(ascending=False)"
   ]
  },
  {
   "cell_type": "code",
   "execution_count": 262,
   "id": "f6ee2ef1",
   "metadata": {},
   "outputs": [
    {
     "data": {
      "text/plain": [
       "<AxesSubplot:xlabel='Borough'>"
      ]
     },
     "execution_count": 262,
     "metadata": {},
     "output_type": "execute_result"
    },
    {
     "data": {
      "image/png": "[encoded data removed]",
      "text/plain": [
       "<Figure size 864x432 with 1 Axes>"
      ]
     },
     "metadata": {
      "needs_background": "light"
     },
     "output_type": "display_data"
    }
   ],
   "source": [
    "plt.figure(figsize = (12,6))\n",
    "data.groupby('Borough')['Unique Key'].count().sort_values(ascending=False).plot.bar(color = '#F67F12')"
   ]
  },
  {
   "cell_type": "code",
   "execution_count": 187,
   "id": "1e322a11",
   "metadata": {},
   "outputs": [],
   "source": [
    "df_m = data[data['Borough'] == 'MANHATTAN']"
   ]
  },
  {
   "cell_type": "code",
   "execution_count": 188,
   "id": "2b8e1d2b",
   "metadata": {},
   "outputs": [],
   "source": [
    "#complaints over time in manhattan"
   ]
  },
  {
   "cell_type": "code",
   "execution_count": 189,
   "id": "7543af95",
   "metadata": {},
   "outputs": [
    {
     "data": {
      "text/plain": [
       "Year_Month\n",
       "2020-07-01    326\n",
       "2020-08-01    545\n",
       "2020-09-01    447\n",
       "2020-10-01    309\n",
       "2020-11-01    220\n",
       "2020-12-01    161\n",
       "2021-01-01    155\n",
       "2021-02-01     72\n",
       "2021-03-01    157\n",
       "2021-04-01    199\n",
       "2021-05-01    243\n",
       "2021-06-01    231\n",
       "2021-07-01    261\n",
       "2021-08-01    232\n",
       "2021-09-01    195\n",
       "2021-10-01    332\n",
       "2021-11-01    249\n",
       "2021-12-01    165\n",
       "2022-01-01    139\n",
       "2022-02-01    106\n",
       "2022-03-01    178\n",
       "2022-04-01    117\n",
       "Name: Unique Key, dtype: int64"
      ]
     },
     "execution_count": 189,
     "metadata": {},
     "output_type": "execute_result"
    }
   ],
   "source": [
    "df_m.groupby('Year_Month')['Unique Key'].count()"
   ]
  },
  {
   "cell_type": "code",
   "execution_count": 190,
   "id": "bb25aba3",
   "metadata": {},
   "outputs": [
    {
     "data": {
      "image/png": "[encoded data removed]",
      "text/plain": [
       "<Figure size 864x216 with 1 Axes>"
      ]
     },
     "metadata": {
      "needs_background": "light"
     },
     "output_type": "display_data"
    }
   ],
   "source": [
    "plt.plot(df_m.groupby('Year_Month')['Unique Key'].count())\n",
    "ax = plt.gca()\n",
    "ax.tick_params(axis='x', labelrotation = 45)"
   ]
  },
  {
   "cell_type": "code",
   "execution_count": 191,
   "id": "01840580",
   "metadata": {},
   "outputs": [],
   "source": [
    "#create datafram for total complaints by year"
   ]
  },
  {
   "cell_type": "code",
   "execution_count": 192,
   "id": "10fcd13c",
   "metadata": {},
   "outputs": [],
   "source": [
    "df_ym = df_m.groupby('Year_Month')[['Unique Key']].count()"
   ]
  },
  {
   "cell_type": "code",
   "execution_count": 193,
   "id": "7c018a89",
   "metadata": {},
   "outputs": [],
   "source": [
    "df_ym.rename(columns={'Unique Key': 'Total Complaints'}, inplace=True)"
   ]
  },
  {
   "cell_type": "code",
   "execution_count": 194,
   "id": "c431670d",
   "metadata": {},
   "outputs": [],
   "source": [
    "df_ym = df_ym.reset_index()"
   ]
  },
  {
   "cell_type": "code",
   "execution_count": 195,
   "id": "bf8c77a4",
   "metadata": {},
   "outputs": [
    {
     "data": {
      "text/plain": [
       "0    2020-07-01\n",
       "1    2020-08-01\n",
       "2    2020-09-01\n",
       "3    2020-10-01\n",
       "4    2020-11-01\n",
       "5    2020-12-01\n",
       "6    2021-01-01\n",
       "7    2021-02-01\n",
       "8    2021-03-01\n",
       "9    2021-04-01\n",
       "10   2021-05-01\n",
       "11   2021-06-01\n",
       "12   2021-07-01\n",
       "13   2021-08-01\n",
       "14   2021-09-01\n",
       "15   2021-10-01\n",
       "16   2021-11-01\n",
       "17   2021-12-01\n",
       "18   2022-01-01\n",
       "19   2022-02-01\n",
       "20   2022-03-01\n",
       "21   2022-04-01\n",
       "Name: Year_Month, dtype: datetime64[ns]"
      ]
     },
     "execution_count": 195,
     "metadata": {},
     "output_type": "execute_result"
    }
   ],
   "source": [
    "df_ym['Year_Month']"
   ]
  },
  {
   "cell_type": "code",
   "execution_count": 245,
   "id": "b26c4ea4",
   "metadata": {},
   "outputs": [
    {
     "data": {
      "image/png": "[encoded data removed]",
      "text/plain": [
       "<Figure size 864x216 with 1 Axes>"
      ]
     },
     "metadata": {
      "needs_background": "light"
     },
     "output_type": "display_data"
    }
   ],
   "source": [
    "x = df_ym['Year_Month']\n",
    "y = list(df_ym['Total Complaints'])\n",
    "labels = ['July 2020', 'August 2020', 'September 2020', 'October 2020', 'November 2020', 'December 2020', \n",
    "          'January 2021', 'February 2021', 'March 2021', 'April 2021', 'May 2021', 'June 2021', \n",
    "          'July 2021', 'August 2021', 'September 2021', 'October 2021',\n",
    "         'November 2021', 'December 2021', 'January 2020', 'February 2021', 'March 2021', 'April 2021']\n",
    "\n",
    "plt.plot(x, y)\n",
    "# You can specify a rotation for the tick labels in degrees or with keywords.\n",
    "plt.rcParams[\"figure.figsize\"] = (12,3)\n",
    "\n",
    "plt.xticks(x, labels, rotation='vertical')\n",
    "# Pad margins so that markers don't get clipped by the axes\n",
    "plt.margins(0.05)\n",
    "# Tweak spacing to prevent clipping of tick-labels\n",
    "plt.subplots_adjust(bottom=0.15)\n",
    "plt.tick_params(axis='x', labelrotation = 90)\n",
    "plt.show()"
   ]
  },
  {
   "cell_type": "code",
   "execution_count": 197,
   "id": "3f3a604a",
   "metadata": {},
   "outputs": [],
   "source": [
    "#types of total complaints by raw counts"
   ]
  },
  {
   "cell_type": "code",
   "execution_count": 198,
   "id": "29d7f0ae",
   "metadata": {},
   "outputs": [
    {
     "data": {
      "text/plain": [
       "Descriptor\n",
       "Sidewalk Zone Blocked      3756\n",
       "Site Setup Condition       2982\n",
       "Barrier Condition          1087\n",
       "Street Zone Blocked        1055\n",
       "Unauthorized Restaurant     309\n",
       "Table Not in Compliance     253\n",
       "ADA Ramp Missing             24\n",
       "Utility Cover Blocked         9\n",
       "Platform Condition            4\n",
       "Name: Descriptor, dtype: int64"
      ]
     },
     "execution_count": 198,
     "metadata": {},
     "output_type": "execute_result"
    }
   ],
   "source": [
    "data.groupby('Descriptor')['Descriptor'].count().sort_values(ascending=False)"
   ]
  },
  {
   "cell_type": "code",
   "execution_count": 203,
   "id": "239b293d",
   "metadata": {},
   "outputs": [
    {
     "data": {
      "text/plain": [
       "<AxesSubplot:xlabel='Descriptor'>"
      ]
     },
     "execution_count": 203,
     "metadata": {},
     "output_type": "execute_result"
    },
    {
     "data": {
      "image/png": "[encoded data removed]",
      "text/plain": [
       "<Figure size 864x432 with 1 Axes>"
      ]
     },
     "metadata": {
      "needs_background": "light"
     },
     "output_type": "display_data"
    }
   ],
   "source": [
    "plt.figure(figsize = (12,6))\n",
    "data.groupby('Descriptor')['Descriptor'].count().sort_values(ascending=False).plot.bar(color = 'r')"
   ]
  },
  {
   "cell_type": "code",
   "execution_count": 255,
   "id": "65ad9859",
   "metadata": {},
   "outputs": [
    {
     "data": {
      "image/png": "[encoded data removed]",
      "text/plain": [
       "<Figure size 864x432 with 1 Axes>"
      ]
     },
     "metadata": {
      "needs_background": "light"
     },
     "output_type": "display_data"
    }
   ],
   "source": [
    "plt.figure(figsize = (12,6))\n",
    "data.groupby('Descriptor')['Descriptor'].count().sort_values(ascending=False).plot.bar(color = 'r')\n",
    "ax.invert_yaxis()"
   ]
  },
  {
   "cell_type": "code",
   "execution_count": 200,
   "id": "e5023a7a",
   "metadata": {},
   "outputs": [
    {
     "data": {
      "text/html": [
       "<div>\n",
       "<style scoped>\n",
       "    .dataframe tbody tr th:only-of-type {\n",
       "        vertical-align: middle;\n",
       "    }\n",
       "\n",
       "    .dataframe tbody tr th {\n",
       "        vertical-align: top;\n",
       "    }\n",
       "\n",
       "    .dataframe thead th {\n",
       "        text-align: right;\n",
       "    }\n",
       "</style>\n",
       "<table border=\"1\" class=\"dataframe\">\n",
       "  <thead>\n",
       "    <tr style=\"text-align: right;\">\n",
       "      <th></th>\n",
       "      <th>Unique Key</th>\n",
       "    </tr>\n",
       "    <tr>\n",
       "      <th>Resolution</th>\n",
       "      <th></th>\n",
       "    </tr>\n",
       "  </thead>\n",
       "  <tbody>\n",
       "    <tr>\n",
       "      <th>Not in compliance</th>\n",
       "      <td>2005</td>\n",
       "    </tr>\n",
       "    <tr>\n",
       "      <th>In compliance</th>\n",
       "      <td>1648</td>\n",
       "    </tr>\n",
       "    <tr>\n",
       "      <th>Misc</th>\n",
       "      <td>1168</td>\n",
       "    </tr>\n",
       "    <tr>\n",
       "      <th>Not authorized</th>\n",
       "      <td>123</td>\n",
       "    </tr>\n",
       "    <tr>\n",
       "      <th>Referred to another agency</th>\n",
       "      <td>95</td>\n",
       "    </tr>\n",
       "  </tbody>\n",
       "</table>\n",
       "</div>"
      ],
      "text/plain": [
       "                            Unique Key\n",
       "Resolution                            \n",
       "Not in compliance                 2005\n",
       "In compliance                     1648\n",
       "Misc                              1168\n",
       "Not authorized                     123\n",
       "Referred to another agency          95"
      ]
     },
     "execution_count": 200,
     "metadata": {},
     "output_type": "execute_result"
    }
   ],
   "source": [
    "df_m.groupby('Resolution')[['Unique Key']].count().sort_values(by='Unique Key', ascending=False)"
   ]
  },
  {
   "cell_type": "code",
   "execution_count": 201,
   "id": "69e97fcd",
   "metadata": {},
   "outputs": [
    {
     "data": {
      "text/plain": [
       "<AxesSubplot:xlabel='Resolution'>"
      ]
     },
     "execution_count": 201,
     "metadata": {},
     "output_type": "execute_result"
    },
    {
     "data": {
      "image/png": "[encoded data removed]",
      "text/plain": [
       "<Figure size 864x432 with 1 Axes>"
      ]
     },
     "metadata": {
      "needs_background": "light"
     },
     "output_type": "display_data"
    }
   ],
   "source": [
    "plt.figure(figsize = (12,6))\n",
    "data.groupby('Resolution')['Unique Key'].count().sort_values(ascending=False).plot.bar(color = 'b')"
   ]
  },
  {
   "cell_type": "code",
   "execution_count": 160,
   "id": "4c1e0fe1",
   "metadata": {},
   "outputs": [],
   "source": [
    "#*Update* cleaned up code with regex\n",
    "#x.groupby('Resolution Description')[['Unique Key']].count()"
   ]
  },
  {
   "cell_type": "code",
   "execution_count": 132,
   "id": "cf0fd9ec",
   "metadata": {},
   "outputs": [],
   "source": []
  },
  {
   "cell_type": "code",
   "execution_count": null,
   "id": "2346dba9",
   "metadata": {},
   "outputs": [],
   "source": []
  }
 ],
 "metadata": {
  "kernelspec": {
   "display_name": "Python 3 (ipykernel)",
   "language": "python",
   "name": "python3"
  },
  "language_info": {
   "codemirror_mode": {
    "name": "ipython",
    "version": 3
   },
   "file_extension": ".py",
   "mimetype": "text/x-python",
   "name": "python",
   "nbconvert_exporter": "python",
   "pygments_lexer": "ipython3",
   "version": "3.9.7"
  }
 },
 "nbformat": 4,
 "nbformat_minor": 5
}
