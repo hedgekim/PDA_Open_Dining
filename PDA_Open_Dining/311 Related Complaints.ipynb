{
 "cells": [
  {
   "cell_type": "code",
   "execution_count": 86,
   "id": "fff00524",
   "metadata": {},
   "outputs": [],
   "source": [
    "import pandas as pd\n",
    "import numpy as np\n",
    "import seaborn as sns\n",
    "from matplotlib import pyplot as plt\n",
    "plt.style.use('ggplot')"
   ]
  },
  {
   "cell_type": "code",
   "execution_count": 87,
   "id": "2571986a",
   "metadata": {},
   "outputs": [],
   "source": [
    "%matplotlib inline"
   ]
  },
  {
   "cell_type": "code",
   "execution_count": 88,
   "id": "9f9eda72",
   "metadata": {},
   "outputs": [],
   "source": [
    "pd.set_option('display.max_rows', 85)"
   ]
  },
  {
   "cell_type": "code",
   "execution_count": 3,
   "id": "ba04dfcb",
   "metadata": {},
   "outputs": [
    {
     "name": "stderr",
     "output_type": "stream",
     "text": [
      "/Users/hyejinkim/opt/anaconda3/lib/python3.9/site-packages/IPython/core/interactiveshell.py:3444: DtypeWarning: Columns (8) have mixed types.Specify dtype option on import or set low_memory=False.\n",
      "  exec(code_obj, self.user_global_ns, self.user_ns)\n"
     ]
    }
   ],
   "source": [
    "data = pd.read_csv('complaints_cleaned.csv')"
   ]
  },
  {
   "cell_type": "code",
   "execution_count": null,
   "id": "bc3e4b8c",
   "metadata": {},
   "outputs": [],
   "source": [
    "'''\n",
    "Initial Data set is a filtered download from NYC 311 complaints, targeted with the follow Complaint Types:\n",
    "\n",
    "Blocked Driveway\n",
    "Illegal Parking\n",
    "Dirty Condition\n",
    "Dirty Conditions\n",
    "Food Establishment\n",
    "Noise - Commercial\n",
    "Noise - Street/Sidewalk\n",
    "Open Dining\n",
    "\n",
    "'''\n"
   ]
  },
  {
   "cell_type": "code",
   "execution_count": null,
   "id": "6f0aead2",
   "metadata": {},
   "outputs": [],
   "source": [
    "# dropped additional columns\n",
    "\n",
    "#data.drop(['Cross Street 1', 'Cross Street 2', 'Intersection Street 1', 'Intersection Street 2'], axis = 1, inplace=True)"
   ]
  },
  {
   "cell_type": "code",
   "execution_count": 6,
   "id": "032eb500",
   "metadata": {},
   "outputs": [
    {
     "data": {
      "text/plain": [
       "Index(['Unique Key', 'Created Date', 'Closed Date', 'Agency', 'Complaint Type',\n",
       "       'Descriptor', 'Location Type', 'Incident Zip', 'Incident Address',\n",
       "       'Street Name', 'Status', 'Due Date', 'Resolution Description',\n",
       "       'Resolution Action Updated Date', 'BBL', 'Borough',\n",
       "       'X Coordinate (State Plane)', 'Y Coordinate (State Plane)',\n",
       "       'Vehicle Type', 'Latitude', 'Longitude', 'Location', 'year', 'month'],\n",
       "      dtype='object')"
      ]
     },
     "execution_count": 6,
     "metadata": {},
     "output_type": "execute_result"
    }
   ],
   "source": [
    "data.columns"
   ]
  },
  {
   "cell_type": "code",
   "execution_count": 11,
   "id": "f5c36df5",
   "metadata": {},
   "outputs": [],
   "source": [
    "data = data.drop('Unnamed: 0.1', axis = 1)"
   ]
  },
  {
   "cell_type": "code",
   "execution_count": 86,
   "id": "47e40b63",
   "metadata": {},
   "outputs": [],
   "source": [
    "#create a year column from the Created Date\n",
    "data['year'] = pd.DatetimeIndex(data['Created Date']).year"
   ]
  },
  {
   "cell_type": "code",
   "execution_count": 88,
   "id": "b5cc1b77",
   "metadata": {},
   "outputs": [],
   "source": [
    "#create a year column from the Created Date\n",
    "data['month'] = pd.DatetimeIndex(data['Created Date']).month"
   ]
  },
  {
   "cell_type": "code",
   "execution_count": 119,
   "id": "876f3237",
   "metadata": {},
   "outputs": [],
   "source": [
    "data.rename(columns={'year': 'Year', 'month': 'Month'}, inplace=True)"
   ]
  },
  {
   "cell_type": "code",
   "execution_count": 120,
   "id": "5fa92b2c",
   "metadata": {},
   "outputs": [],
   "source": [
    "data['Year_Month'] = pd.to_datetime(data[['Year', 'Month']].assign(DAY=1))"
   ]
  },
  {
   "cell_type": "code",
   "execution_count": 8,
   "id": "dd7aa19d",
   "metadata": {},
   "outputs": [],
   "source": [
    "#consolidate Dirty Condition/s category into 1\n",
    "data.loc[data['Complaint Type'] == 'Dirty Condition', 'Complaint Type'] = 'Dirty Conditions'"
   ]
  },
  {
   "cell_type": "code",
   "execution_count": 53,
   "id": "c16d6141",
   "metadata": {},
   "outputs": [
    {
     "data": {
      "text/plain": [
       "82"
      ]
     },
     "execution_count": 53,
     "metadata": {},
     "output_type": "execute_result"
    }
   ],
   "source": [
    "#find the unique description types, remove rows that do not seem relevant from 82 description types\n",
    "\n",
    "len(set(data['Descriptor']))"
   ]
  },
  {
   "cell_type": "code",
   "execution_count": 20,
   "id": "9cf4f8d2",
   "metadata": {},
   "outputs": [
    {
     "data": {
      "text/plain": [
       "762241"
      ]
     },
     "execution_count": 20,
     "metadata": {},
     "output_type": "execute_result"
    }
   ],
   "source": [
    "data.groupby(['Complaint Type', 'Descriptor'])['Descriptor'].agg('count').sum()\n",
    "\n",
    "#total of complaint rows 762,241"
   ]
  },
  {
   "cell_type": "code",
   "execution_count": 9,
   "id": "d811b02f",
   "metadata": {},
   "outputs": [
    {
     "data": {
      "text/html": [
       "<div>\n",
       "<style scoped>\n",
       "    .dataframe tbody tr th:only-of-type {\n",
       "        vertical-align: middle;\n",
       "    }\n",
       "\n",
       "    .dataframe tbody tr th {\n",
       "        vertical-align: top;\n",
       "    }\n",
       "\n",
       "    .dataframe thead th {\n",
       "        text-align: right;\n",
       "    }\n",
       "</style>\n",
       "<table border=\"1\" class=\"dataframe\">\n",
       "  <thead>\n",
       "    <tr style=\"text-align: right;\">\n",
       "      <th></th>\n",
       "      <th></th>\n",
       "      <th>Unique Key</th>\n",
       "    </tr>\n",
       "    <tr>\n",
       "      <th>Complaint Type</th>\n",
       "      <th>Descriptor</th>\n",
       "      <th></th>\n",
       "    </tr>\n",
       "  </thead>\n",
       "  <tbody>\n",
       "    <tr>\n",
       "      <th rowspan=\"2\" valign=\"top\">Blocked Driveway</th>\n",
       "      <th>No Access</th>\n",
       "      <td>23794</td>\n",
       "    </tr>\n",
       "    <tr>\n",
       "      <th>Partial Access</th>\n",
       "      <td>6679</td>\n",
       "    </tr>\n",
       "    <tr>\n",
       "      <th rowspan=\"21\" valign=\"top\">Dirty Conditions</th>\n",
       "      <th>Broken Glass</th>\n",
       "      <td>27</td>\n",
       "    </tr>\n",
       "    <tr>\n",
       "      <th>Debris from Car Accident</th>\n",
       "      <td>3</td>\n",
       "    </tr>\n",
       "    <tr>\n",
       "      <th>Dirt or Gravel</th>\n",
       "      <td>9</td>\n",
       "    </tr>\n",
       "    <tr>\n",
       "      <th>Dog Waste</th>\n",
       "      <td>61</td>\n",
       "    </tr>\n",
       "    <tr>\n",
       "      <th>E1 Improper Disposal</th>\n",
       "      <td>5495</td>\n",
       "    </tr>\n",
       "    <tr>\n",
       "      <th>E11 Litter Surveillance</th>\n",
       "      <td>1308</td>\n",
       "    </tr>\n",
       "    <tr>\n",
       "      <th>E12 Illegal Dumping Surveillance</th>\n",
       "      <td>2346</td>\n",
       "    </tr>\n",
       "    <tr>\n",
       "      <th>E13 Throw-Out</th>\n",
       "      <td>292</td>\n",
       "    </tr>\n",
       "    <tr>\n",
       "      <th>E15 Illegal Postering</th>\n",
       "      <td>8866</td>\n",
       "    </tr>\n",
       "    <tr>\n",
       "      <th>E1A Litter Basket / Improper Use</th>\n",
       "      <td>845</td>\n",
       "    </tr>\n",
       "    <tr>\n",
       "      <th>E2 Receptacle Violation</th>\n",
       "      <td>2682</td>\n",
       "    </tr>\n",
       "    <tr>\n",
       "      <th>E3 Dirty Sidewalk</th>\n",
       "      <td>20461</td>\n",
       "    </tr>\n",
       "    <tr>\n",
       "      <th>E3A Dirty Area/Alleyway</th>\n",
       "      <td>3134</td>\n",
       "    </tr>\n",
       "    <tr>\n",
       "      <th>E3B Sidewalk Obstruction</th>\n",
       "      <td>83</td>\n",
       "    </tr>\n",
       "    <tr>\n",
       "      <th>E4 18\" Law</th>\n",
       "      <td>1070</td>\n",
       "    </tr>\n",
       "    <tr>\n",
       "      <th>E5 Loose Rubbish</th>\n",
       "      <td>2357</td>\n",
       "    </tr>\n",
       "    <tr>\n",
       "      <th>E7 Private Carter Spillage</th>\n",
       "      <td>79</td>\n",
       "    </tr>\n",
       "    <tr>\n",
       "      <th>E8 Canine Violation</th>\n",
       "      <td>3149</td>\n",
       "    </tr>\n",
       "    <tr>\n",
       "      <th>Poster or Sign</th>\n",
       "      <td>3</td>\n",
       "    </tr>\n",
       "    <tr>\n",
       "      <th>Syringes</th>\n",
       "      <td>47</td>\n",
       "    </tr>\n",
       "    <tr>\n",
       "      <th>Trash</th>\n",
       "      <td>1276</td>\n",
       "    </tr>\n",
       "    <tr>\n",
       "      <th rowspan=\"33\" valign=\"top\">Food Establishment</th>\n",
       "      <th>Allergy Information</th>\n",
       "      <td>89</td>\n",
       "    </tr>\n",
       "    <tr>\n",
       "      <th>Bare Hands in Contact w/ Food</th>\n",
       "      <td>2080</td>\n",
       "    </tr>\n",
       "    <tr>\n",
       "      <th>Dishwashing/Utensils</th>\n",
       "      <td>460</td>\n",
       "    </tr>\n",
       "    <tr>\n",
       "      <th>Facility Construction</th>\n",
       "      <td>346</td>\n",
       "    </tr>\n",
       "    <tr>\n",
       "      <th>Food Contains Foreign Object</th>\n",
       "      <td>2000</td>\n",
       "    </tr>\n",
       "    <tr>\n",
       "      <th>Food Contaminated</th>\n",
       "      <td>2246</td>\n",
       "    </tr>\n",
       "    <tr>\n",
       "      <th>Food Preparation Location</th>\n",
       "      <td>510</td>\n",
       "    </tr>\n",
       "    <tr>\n",
       "      <th>Food Protection</th>\n",
       "      <td>705</td>\n",
       "    </tr>\n",
       "    <tr>\n",
       "      <th>Food Spoiled</th>\n",
       "      <td>2307</td>\n",
       "    </tr>\n",
       "    <tr>\n",
       "      <th>Food Temperature</th>\n",
       "      <td>943</td>\n",
       "    </tr>\n",
       "    <tr>\n",
       "      <th>Food Worker Activity</th>\n",
       "      <td>299</td>\n",
       "    </tr>\n",
       "    <tr>\n",
       "      <th>Food Worker Hygiene</th>\n",
       "      <td>1185</td>\n",
       "    </tr>\n",
       "    <tr>\n",
       "      <th>Food Worker Illness</th>\n",
       "      <td>166</td>\n",
       "    </tr>\n",
       "    <tr>\n",
       "      <th>Handwashing</th>\n",
       "      <td>479</td>\n",
       "    </tr>\n",
       "    <tr>\n",
       "      <th>Kitchen/Food Prep Area</th>\n",
       "      <td>1571</td>\n",
       "    </tr>\n",
       "    <tr>\n",
       "      <th>Letter Grading</th>\n",
       "      <td>2965</td>\n",
       "    </tr>\n",
       "    <tr>\n",
       "      <th>Lighting</th>\n",
       "      <td>21</td>\n",
       "    </tr>\n",
       "    <tr>\n",
       "      <th>Milk Expired</th>\n",
       "      <td>9</td>\n",
       "    </tr>\n",
       "    <tr>\n",
       "      <th>Milk Not Pasteurized</th>\n",
       "      <td>14</td>\n",
       "    </tr>\n",
       "    <tr>\n",
       "      <th>No Permit or License</th>\n",
       "      <td>729</td>\n",
       "    </tr>\n",
       "    <tr>\n",
       "      <th>Odor</th>\n",
       "      <td>686</td>\n",
       "    </tr>\n",
       "    <tr>\n",
       "      <th>Permit/License/Certificate</th>\n",
       "      <td>459</td>\n",
       "    </tr>\n",
       "    <tr>\n",
       "      <th>Pesticide</th>\n",
       "      <td>119</td>\n",
       "    </tr>\n",
       "    <tr>\n",
       "      <th>Pet/Animal</th>\n",
       "      <td>1855</td>\n",
       "    </tr>\n",
       "    <tr>\n",
       "      <th>Plumbing</th>\n",
       "      <td>127</td>\n",
       "    </tr>\n",
       "    <tr>\n",
       "      <th>Rodents/Insects/Garbage</th>\n",
       "      <td>10160</td>\n",
       "    </tr>\n",
       "    <tr>\n",
       "      <th>Sewage</th>\n",
       "      <td>215</td>\n",
       "    </tr>\n",
       "    <tr>\n",
       "      <th>Sign</th>\n",
       "      <td>63</td>\n",
       "    </tr>\n",
       "    <tr>\n",
       "      <th>Sodium Warning</th>\n",
       "      <td>6</td>\n",
       "    </tr>\n",
       "    <tr>\n",
       "      <th>Toilet Facility</th>\n",
       "      <td>963</td>\n",
       "    </tr>\n",
       "    <tr>\n",
       "      <th>Toxic Chemical/Material</th>\n",
       "      <td>105</td>\n",
       "    </tr>\n",
       "    <tr>\n",
       "      <th>Ventilation</th>\n",
       "      <td>254</td>\n",
       "    </tr>\n",
       "    <tr>\n",
       "      <th>Water</th>\n",
       "      <td>133</td>\n",
       "    </tr>\n",
       "    <tr>\n",
       "      <th rowspan=\"12\" valign=\"top\">Illegal Parking</th>\n",
       "      <th>Blocked Bike Lane</th>\n",
       "      <td>20405</td>\n",
       "    </tr>\n",
       "    <tr>\n",
       "      <th>Blocked Crosswalk</th>\n",
       "      <td>372</td>\n",
       "    </tr>\n",
       "    <tr>\n",
       "      <th>Blocked Hydrant</th>\n",
       "      <td>27994</td>\n",
       "    </tr>\n",
       "    <tr>\n",
       "      <th>Blocked Sidewalk</th>\n",
       "      <td>21217</td>\n",
       "    </tr>\n",
       "    <tr>\n",
       "      <th>Commercial Overnight Parking</th>\n",
       "      <td>5318</td>\n",
       "    </tr>\n",
       "    <tr>\n",
       "      <th>Detached Trailer</th>\n",
       "      <td>250</td>\n",
       "    </tr>\n",
       "    <tr>\n",
       "      <th>Double Parked Blocking Traffic</th>\n",
       "      <td>21029</td>\n",
       "    </tr>\n",
       "    <tr>\n",
       "      <th>Double Parked Blocking Vehicle</th>\n",
       "      <td>15735</td>\n",
       "    </tr>\n",
       "    <tr>\n",
       "      <th>Overnight Commercial Storage</th>\n",
       "      <td>967</td>\n",
       "    </tr>\n",
       "    <tr>\n",
       "      <th>Parking Permit Improper Use</th>\n",
       "      <td>4142</td>\n",
       "    </tr>\n",
       "    <tr>\n",
       "      <th>Posted Parking Sign Violation</th>\n",
       "      <td>67386</td>\n",
       "    </tr>\n",
       "    <tr>\n",
       "      <th>Unauthorized Bus Layover</th>\n",
       "      <td>5194</td>\n",
       "    </tr>\n",
       "    <tr>\n",
       "      <th rowspan=\"6\" valign=\"top\">Noise - Commercial</th>\n",
       "      <th>Banging/Pounding</th>\n",
       "      <td>17135</td>\n",
       "    </tr>\n",
       "    <tr>\n",
       "      <th>Car/Truck Horn</th>\n",
       "      <td>2916</td>\n",
       "    </tr>\n",
       "    <tr>\n",
       "      <th>Car/Truck Music</th>\n",
       "      <td>3352</td>\n",
       "    </tr>\n",
       "    <tr>\n",
       "      <th>Loud Music/Party</th>\n",
       "      <td>123411</td>\n",
       "    </tr>\n",
       "    <tr>\n",
       "      <th>Loud Talking</th>\n",
       "      <td>13980</td>\n",
       "    </tr>\n",
       "    <tr>\n",
       "      <th>Loud Television</th>\n",
       "      <td>288</td>\n",
       "    </tr>\n",
       "    <tr>\n",
       "      <th rowspan=\"2\" valign=\"top\">Noise - Street/Sidewalk</th>\n",
       "      <th>Loud Music/Party</th>\n",
       "      <td>214555</td>\n",
       "    </tr>\n",
       "    <tr>\n",
       "      <th>Loud Talking</th>\n",
       "      <td>75247</td>\n",
       "    </tr>\n",
       "    <tr>\n",
       "      <th rowspan=\"8\" valign=\"top\">Outdoor Dining</th>\n",
       "      <th>ADA Ramp Missing</th>\n",
       "      <td>5</td>\n",
       "    </tr>\n",
       "    <tr>\n",
       "      <th>Barrier Condition</th>\n",
       "      <td>299</td>\n",
       "    </tr>\n",
       "    <tr>\n",
       "      <th>Sidewalk Zone Blocked</th>\n",
       "      <td>1211</td>\n",
       "    </tr>\n",
       "    <tr>\n",
       "      <th>Site Setup Condition</th>\n",
       "      <td>973</td>\n",
       "    </tr>\n",
       "    <tr>\n",
       "      <th>Street Zone Blocked</th>\n",
       "      <td>355</td>\n",
       "    </tr>\n",
       "    <tr>\n",
       "      <th>Table Not in Compliance</th>\n",
       "      <td>86</td>\n",
       "    </tr>\n",
       "    <tr>\n",
       "      <th>Unauthorized Restaurant</th>\n",
       "      <td>83</td>\n",
       "    </tr>\n",
       "    <tr>\n",
       "      <th>Utility Cover Blocked</th>\n",
       "      <td>1</td>\n",
       "    </tr>\n",
       "  </tbody>\n",
       "</table>\n",
       "</div>"
      ],
      "text/plain": [
       "                                                          Unique Key\n",
       "Complaint Type          Descriptor                                  \n",
       "Blocked Driveway        No Access                              23794\n",
       "                        Partial Access                          6679\n",
       "Dirty Conditions        Broken Glass                              27\n",
       "                        Debris from Car Accident                   3\n",
       "                        Dirt or Gravel                             9\n",
       "                        Dog Waste                                 61\n",
       "                        E1 Improper Disposal                    5495\n",
       "                        E11 Litter Surveillance                 1308\n",
       "                        E12 Illegal Dumping Surveillance        2346\n",
       "                        E13 Throw-Out                            292\n",
       "                        E15 Illegal Postering                   8866\n",
       "                        E1A Litter Basket / Improper Use         845\n",
       "                        E2 Receptacle Violation                 2682\n",
       "                        E3 Dirty Sidewalk                      20461\n",
       "                        E3A Dirty Area/Alleyway                 3134\n",
       "                        E3B Sidewalk Obstruction                  83\n",
       "                        E4 18\" Law                              1070\n",
       "                        E5 Loose Rubbish                        2357\n",
       "                        E7 Private Carter Spillage                79\n",
       "                        E8 Canine Violation                     3149\n",
       "                        Poster or Sign                             3\n",
       "                        Syringes                                  47\n",
       "                        Trash                                   1276\n",
       "Food Establishment      Allergy Information                       89\n",
       "                        Bare Hands in Contact w/ Food           2080\n",
       "                        Dishwashing/Utensils                     460\n",
       "                        Facility Construction                    346\n",
       "                        Food Contains Foreign Object            2000\n",
       "                        Food Contaminated                       2246\n",
       "                        Food Preparation Location                510\n",
       "                        Food Protection                          705\n",
       "                        Food Spoiled                            2307\n",
       "                        Food Temperature                         943\n",
       "                        Food Worker Activity                     299\n",
       "                        Food Worker Hygiene                     1185\n",
       "                        Food Worker Illness                      166\n",
       "                        Handwashing                              479\n",
       "                        Kitchen/Food Prep Area                  1571\n",
       "                        Letter Grading                          2965\n",
       "                        Lighting                                  21\n",
       "                        Milk Expired                               9\n",
       "                        Milk Not Pasteurized                      14\n",
       "                        No Permit or License                     729\n",
       "                        Odor                                     686\n",
       "                        Permit/License/Certificate               459\n",
       "                        Pesticide                                119\n",
       "                        Pet/Animal                              1855\n",
       "                        Plumbing                                 127\n",
       "                        Rodents/Insects/Garbage                10160\n",
       "                        Sewage                                   215\n",
       "                        Sign                                      63\n",
       "                        Sodium Warning                             6\n",
       "                        Toilet Facility                          963\n",
       "                        Toxic Chemical/Material                  105\n",
       "                        Ventilation                              254\n",
       "                        Water                                    133\n",
       "Illegal Parking         Blocked Bike Lane                      20405\n",
       "                        Blocked Crosswalk                        372\n",
       "                        Blocked Hydrant                        27994\n",
       "                        Blocked Sidewalk                       21217\n",
       "                        Commercial Overnight Parking            5318\n",
       "                        Detached Trailer                         250\n",
       "                        Double Parked Blocking Traffic         21029\n",
       "                        Double Parked Blocking Vehicle         15735\n",
       "                        Overnight Commercial Storage             967\n",
       "                        Parking Permit Improper Use             4142\n",
       "                        Posted Parking Sign Violation          67386\n",
       "                        Unauthorized Bus Layover                5194\n",
       "Noise - Commercial      Banging/Pounding                       17135\n",
       "                        Car/Truck Horn                          2916\n",
       "                        Car/Truck Music                         3352\n",
       "                        Loud Music/Party                      123411\n",
       "                        Loud Talking                           13980\n",
       "                        Loud Television                          288\n",
       "Noise - Street/Sidewalk Loud Music/Party                      214555\n",
       "                        Loud Talking                           75247\n",
       "Outdoor Dining          ADA Ramp Missing                           5\n",
       "                        Barrier Condition                        299\n",
       "                        Sidewalk Zone Blocked                   1211\n",
       "                        Site Setup Condition                     973\n",
       "                        Street Zone Blocked                      355\n",
       "                        Table Not in Compliance                   86\n",
       "                        Unauthorized Restaurant                   83\n",
       "                        Utility Cover Blocked                      1"
      ]
     },
     "execution_count": 9,
     "metadata": {},
     "output_type": "execute_result"
    }
   ],
   "source": [
    "data.groupby(['Complaint Type','Descriptor'])[['Unique Key']].count()"
   ]
  },
  {
   "cell_type": "code",
   "execution_count": 10,
   "id": "2db012f5",
   "metadata": {},
   "outputs": [
    {
     "data": {
      "text/plain": [
       "'\\nAdditional Description rows to filter out and remove:\\n\\nBlocked Driveway: Keep All\\n\\nDirty Conditions: Broken Glass, Debris from Car Accident, Dirt or Gravel, Dog Waste, E15 Illegal Postering,\\nE4 18\" Law, E8 Canine Violation, Poster or Sign, Syringes\\n\\nFood Establishment: No Permit or License, Permit/License/Certificate, Rodents/Insects/Garbage\\n\\nIllegal parking: *Remove* Overnight Commercial Storage, Detached Trailer, Unauthorized Bus Layover\\n\\nNoise - Commercial: Keep All\\n\\nNoise - Street/Sidewalk: Keep All\\n\\n'"
      ]
     },
     "execution_count": 10,
     "metadata": {},
     "output_type": "execute_result"
    }
   ],
   "source": [
    "\n",
    "'''\n",
    "Additional Description rows to filter out and remove:\n",
    "\n",
    "Blocked Driveway: Keep All\n",
    "\n",
    "Dirty Conditions: Broken Glass, Debris from Car Accident, Dirt or Gravel, Dog Waste, E15 Illegal Postering,\n",
    "E4 18\" Law, E8 Canine Violation, Poster or Sign, Syringes\n",
    "\n",
    "Food Establishment: No Permit or License, Permit/License/Certificate, Rodents/Insects/Garbage\n",
    "\n",
    "Illegal parking: *Remove* Overnight Commercial Storage, Detached Trailer, Unauthorized Bus Layover\n",
    "\n",
    "Noise - Commercial: Keep All\n",
    "\n",
    "Noise - Street/Sidewalk: Keep All\n",
    "\n",
    "'''"
   ]
  },
  {
   "cell_type": "code",
   "execution_count": 17,
   "id": "6786c34f",
   "metadata": {},
   "outputs": [],
   "source": [
    "# Descriptors to drop within dirty conditions category\n",
    "\n",
    "dirty_conditions_drop = ['Broken Glass', 'Debris from Car Accident', 'Dirt or Gravel', 'Dog Waste', \n",
    "                         'E15 Illegal Postering', 'E4 18\" Law', 'E8 Canine Violation', 'Poster or Sign', 'Syringes']"
   ]
  },
  {
   "cell_type": "code",
   "execution_count": 21,
   "id": "c43a297f",
   "metadata": {},
   "outputs": [],
   "source": [
    "# Dropped the above\n",
    "data = data.drop(data[data.Descriptor.isin(dirty_conditions_drop)].index)\n",
    "\n",
    "#749006 rows left"
   ]
  },
  {
   "cell_type": "code",
   "execution_count": 24,
   "id": "5c4db651",
   "metadata": {},
   "outputs": [],
   "source": [
    "food_establishment_keep = ['No Permit or License', 'Permit/License/Certificate', 'Rodents/Insects/Garbage']"
   ]
  },
  {
   "cell_type": "code",
   "execution_count": 39,
   "id": "2c40ccc4",
   "metadata": {},
   "outputs": [],
   "source": [
    "data_food = data[data['Descriptor'].isin(food_establishment_keep)]"
   ]
  },
  {
   "cell_type": "code",
   "execution_count": 43,
   "id": "dca5d3bd",
   "metadata": {},
   "outputs": [],
   "source": [
    "#remove all Food Establishment\n",
    "\n",
    "data = data[data['Complaint Type'] != 'Food Establishment'] "
   ]
  },
  {
   "cell_type": "code",
   "execution_count": null,
   "id": "1f40766c",
   "metadata": {},
   "outputs": [],
   "source": [
    "#add back filtered food establishment rows"
   ]
  },
  {
   "cell_type": "code",
   "execution_count": 47,
   "id": "2c99f222",
   "metadata": {},
   "outputs": [],
   "source": [
    "data = pd.concat([data, data_food], axis=0)\n",
    "\n",
    "#726085 rows left"
   ]
  },
  {
   "cell_type": "code",
   "execution_count": 49,
   "id": "572c19a4",
   "metadata": {},
   "outputs": [],
   "source": [
    "#remove the following illegal parking types\n",
    "illegal_parking_drop = ['Overnight Commercial Storage', 'Detached Trailer', 'Unauthorized Bus Layover']"
   ]
  },
  {
   "cell_type": "code",
   "execution_count": 53,
   "id": "3e5cbe4b",
   "metadata": {},
   "outputs": [],
   "source": [
    "# Dropped the above\n",
    "data = data.drop(data[data.Descriptor.isin(illegal_parking_drop)].index)\n",
    "\n",
    "#719674 rows left"
   ]
  },
  {
   "cell_type": "code",
   "execution_count": 57,
   "id": "2618ffb6",
   "metadata": {},
   "outputs": [
    {
     "data": {
      "text/html": [
       "<div>\n",
       "<style scoped>\n",
       "    .dataframe tbody tr th:only-of-type {\n",
       "        vertical-align: middle;\n",
       "    }\n",
       "\n",
       "    .dataframe tbody tr th {\n",
       "        vertical-align: top;\n",
       "    }\n",
       "\n",
       "    .dataframe thead th {\n",
       "        text-align: right;\n",
       "    }\n",
       "</style>\n",
       "<table border=\"1\" class=\"dataframe\">\n",
       "  <thead>\n",
       "    <tr style=\"text-align: right;\">\n",
       "      <th></th>\n",
       "      <th></th>\n",
       "      <th>Unique Key</th>\n",
       "    </tr>\n",
       "    <tr>\n",
       "      <th>Complaint Type</th>\n",
       "      <th>Descriptor</th>\n",
       "      <th></th>\n",
       "    </tr>\n",
       "  </thead>\n",
       "  <tbody>\n",
       "    <tr>\n",
       "      <th rowspan=\"2\" valign=\"top\">Blocked Driveway</th>\n",
       "      <th>No Access</th>\n",
       "      <td>23794</td>\n",
       "    </tr>\n",
       "    <tr>\n",
       "      <th>Partial Access</th>\n",
       "      <td>6679</td>\n",
       "    </tr>\n",
       "    <tr>\n",
       "      <th rowspan=\"12\" valign=\"top\">Dirty Conditions</th>\n",
       "      <th>E1 Improper Disposal</th>\n",
       "      <td>5495</td>\n",
       "    </tr>\n",
       "    <tr>\n",
       "      <th>E11 Litter Surveillance</th>\n",
       "      <td>1308</td>\n",
       "    </tr>\n",
       "    <tr>\n",
       "      <th>E12 Illegal Dumping Surveillance</th>\n",
       "      <td>2346</td>\n",
       "    </tr>\n",
       "    <tr>\n",
       "      <th>E13 Throw-Out</th>\n",
       "      <td>292</td>\n",
       "    </tr>\n",
       "    <tr>\n",
       "      <th>E1A Litter Basket / Improper Use</th>\n",
       "      <td>845</td>\n",
       "    </tr>\n",
       "    <tr>\n",
       "      <th>E2 Receptacle Violation</th>\n",
       "      <td>2682</td>\n",
       "    </tr>\n",
       "    <tr>\n",
       "      <th>E3 Dirty Sidewalk</th>\n",
       "      <td>20461</td>\n",
       "    </tr>\n",
       "    <tr>\n",
       "      <th>E3A Dirty Area/Alleyway</th>\n",
       "      <td>3134</td>\n",
       "    </tr>\n",
       "    <tr>\n",
       "      <th>E3B Sidewalk Obstruction</th>\n",
       "      <td>83</td>\n",
       "    </tr>\n",
       "    <tr>\n",
       "      <th>E5 Loose Rubbish</th>\n",
       "      <td>2357</td>\n",
       "    </tr>\n",
       "    <tr>\n",
       "      <th>E7 Private Carter Spillage</th>\n",
       "      <td>79</td>\n",
       "    </tr>\n",
       "    <tr>\n",
       "      <th>Trash</th>\n",
       "      <td>1276</td>\n",
       "    </tr>\n",
       "    <tr>\n",
       "      <th rowspan=\"3\" valign=\"top\">Food Establishment</th>\n",
       "      <th>No Permit or License</th>\n",
       "      <td>729</td>\n",
       "    </tr>\n",
       "    <tr>\n",
       "      <th>Permit/License/Certificate</th>\n",
       "      <td>459</td>\n",
       "    </tr>\n",
       "    <tr>\n",
       "      <th>Rodents/Insects/Garbage</th>\n",
       "      <td>10160</td>\n",
       "    </tr>\n",
       "    <tr>\n",
       "      <th rowspan=\"9\" valign=\"top\">Illegal Parking</th>\n",
       "      <th>Blocked Bike Lane</th>\n",
       "      <td>20405</td>\n",
       "    </tr>\n",
       "    <tr>\n",
       "      <th>Blocked Crosswalk</th>\n",
       "      <td>372</td>\n",
       "    </tr>\n",
       "    <tr>\n",
       "      <th>Blocked Hydrant</th>\n",
       "      <td>27994</td>\n",
       "    </tr>\n",
       "    <tr>\n",
       "      <th>Blocked Sidewalk</th>\n",
       "      <td>21217</td>\n",
       "    </tr>\n",
       "    <tr>\n",
       "      <th>Commercial Overnight Parking</th>\n",
       "      <td>5318</td>\n",
       "    </tr>\n",
       "    <tr>\n",
       "      <th>Double Parked Blocking Traffic</th>\n",
       "      <td>21029</td>\n",
       "    </tr>\n",
       "    <tr>\n",
       "      <th>Double Parked Blocking Vehicle</th>\n",
       "      <td>15735</td>\n",
       "    </tr>\n",
       "    <tr>\n",
       "      <th>Parking Permit Improper Use</th>\n",
       "      <td>4142</td>\n",
       "    </tr>\n",
       "    <tr>\n",
       "      <th>Posted Parking Sign Violation</th>\n",
       "      <td>67386</td>\n",
       "    </tr>\n",
       "    <tr>\n",
       "      <th rowspan=\"6\" valign=\"top\">Noise - Commercial</th>\n",
       "      <th>Banging/Pounding</th>\n",
       "      <td>17135</td>\n",
       "    </tr>\n",
       "    <tr>\n",
       "      <th>Car/Truck Horn</th>\n",
       "      <td>2916</td>\n",
       "    </tr>\n",
       "    <tr>\n",
       "      <th>Car/Truck Music</th>\n",
       "      <td>3352</td>\n",
       "    </tr>\n",
       "    <tr>\n",
       "      <th>Loud Music/Party</th>\n",
       "      <td>123411</td>\n",
       "    </tr>\n",
       "    <tr>\n",
       "      <th>Loud Talking</th>\n",
       "      <td>13980</td>\n",
       "    </tr>\n",
       "    <tr>\n",
       "      <th>Loud Television</th>\n",
       "      <td>288</td>\n",
       "    </tr>\n",
       "    <tr>\n",
       "      <th rowspan=\"2\" valign=\"top\">Noise - Street/Sidewalk</th>\n",
       "      <th>Loud Music/Party</th>\n",
       "      <td>214555</td>\n",
       "    </tr>\n",
       "    <tr>\n",
       "      <th>Loud Talking</th>\n",
       "      <td>75247</td>\n",
       "    </tr>\n",
       "  </tbody>\n",
       "</table>\n",
       "</div>"
      ],
      "text/plain": [
       "                                                          Unique Key\n",
       "Complaint Type          Descriptor                                  \n",
       "Blocked Driveway        No Access                              23794\n",
       "                        Partial Access                          6679\n",
       "Dirty Conditions        E1 Improper Disposal                    5495\n",
       "                        E11 Litter Surveillance                 1308\n",
       "                        E12 Illegal Dumping Surveillance        2346\n",
       "                        E13 Throw-Out                            292\n",
       "                        E1A Litter Basket / Improper Use         845\n",
       "                        E2 Receptacle Violation                 2682\n",
       "                        E3 Dirty Sidewalk                      20461\n",
       "                        E3A Dirty Area/Alleyway                 3134\n",
       "                        E3B Sidewalk Obstruction                  83\n",
       "                        E5 Loose Rubbish                        2357\n",
       "                        E7 Private Carter Spillage                79\n",
       "                        Trash                                   1276\n",
       "Food Establishment      No Permit or License                     729\n",
       "                        Permit/License/Certificate               459\n",
       "                        Rodents/Insects/Garbage                10160\n",
       "Illegal Parking         Blocked Bike Lane                      20405\n",
       "                        Blocked Crosswalk                        372\n",
       "                        Blocked Hydrant                        27994\n",
       "                        Blocked Sidewalk                       21217\n",
       "                        Commercial Overnight Parking            5318\n",
       "                        Double Parked Blocking Traffic         21029\n",
       "                        Double Parked Blocking Vehicle         15735\n",
       "                        Parking Permit Improper Use             4142\n",
       "                        Posted Parking Sign Violation          67386\n",
       "Noise - Commercial      Banging/Pounding                       17135\n",
       "                        Car/Truck Horn                          2916\n",
       "                        Car/Truck Music                         3352\n",
       "                        Loud Music/Party                      123411\n",
       "                        Loud Talking                           13980\n",
       "                        Loud Television                          288\n",
       "Noise - Street/Sidewalk Loud Music/Party                      214555\n",
       "                        Loud Talking                           75247"
      ]
     },
     "execution_count": 57,
     "metadata": {},
     "output_type": "execute_result"
    }
   ],
   "source": [
    "data.groupby(['Complaint Type','Descriptor'])[['Unique Key']].count()"
   ]
  },
  {
   "cell_type": "code",
   "execution_count": 56,
   "id": "b82e2fb2",
   "metadata": {},
   "outputs": [],
   "source": [
    "#remove all outdoor dining (this is going to be parsed out)\n",
    "\n",
    "data = data[data['Complaint Type'] != 'Outdoor Dining'] "
   ]
  },
  {
   "cell_type": "code",
   "execution_count": 123,
   "id": "cd0e8d15",
   "metadata": {},
   "outputs": [],
   "source": [
    "# saved filtered columns to saved csv\n",
    "data.to_csv('complaints_cleaned_4_22.csv')"
   ]
  },
  {
   "cell_type": "code",
   "execution_count": 70,
   "id": "582f170c",
   "metadata": {},
   "outputs": [
    {
     "data": {
      "text/plain": [
       "(716661, 25)"
      ]
     },
     "execution_count": 70,
     "metadata": {},
     "output_type": "execute_result"
    }
   ],
   "source": [
    "data.shape"
   ]
  },
  {
   "cell_type": "code",
   "execution_count": 2,
   "id": "45518a22",
   "metadata": {},
   "outputs": [
    {
     "name": "stderr",
     "output_type": "stream",
     "text": [
      "/Users/hyejinkim/opt/anaconda3/lib/python3.9/site-packages/IPython/core/interactiveshell.py:3444: DtypeWarning: Columns (9) have mixed types.Specify dtype option on import or set low_memory=False.\n",
      "  exec(code_obj, self.user_global_ns, self.user_ns)\n"
     ]
    }
   ],
   "source": [
    "data = pd.read_csv('complaints_cleaned_4_22.csv')"
   ]
  },
  {
   "cell_type": "code",
   "execution_count": null,
   "id": "876d00b1",
   "metadata": {},
   "outputs": [],
   "source": []
  },
  {
   "cell_type": "code",
   "execution_count": 13,
   "id": "22c24610",
   "metadata": {},
   "outputs": [],
   "source": [
    "# Drop April 2022 data as its not complete\n",
    "data = data.drop(data[data.Year_Month == '2022-04-01'].index)"
   ]
  },
  {
   "cell_type": "code",
   "execution_count": 14,
   "id": "b0a7abce",
   "metadata": {},
   "outputs": [
    {
     "data": {
      "text/plain": [
       "(713545, 25)"
      ]
     },
     "execution_count": 14,
     "metadata": {},
     "output_type": "execute_result"
    }
   ],
   "source": [
    "data.shape"
   ]
  },
  {
   "cell_type": "code",
   "execution_count": 91,
   "id": "2a83fa31",
   "metadata": {},
   "outputs": [
    {
     "data": {
      "text/html": [
       "<div>\n",
       "<style scoped>\n",
       "    .dataframe tbody tr th:only-of-type {\n",
       "        vertical-align: middle;\n",
       "    }\n",
       "\n",
       "    .dataframe tbody tr th {\n",
       "        vertical-align: top;\n",
       "    }\n",
       "\n",
       "    .dataframe thead th {\n",
       "        text-align: right;\n",
       "    }\n",
       "</style>\n",
       "<table border=\"1\" class=\"dataframe\">\n",
       "  <thead>\n",
       "    <tr style=\"text-align: right;\">\n",
       "      <th></th>\n",
       "      <th>Unique Key</th>\n",
       "    </tr>\n",
       "    <tr>\n",
       "      <th>Month</th>\n",
       "      <th></th>\n",
       "    </tr>\n",
       "  </thead>\n",
       "  <tbody>\n",
       "    <tr>\n",
       "      <th>1</th>\n",
       "      <td>42820</td>\n",
       "    </tr>\n",
       "    <tr>\n",
       "      <th>2</th>\n",
       "      <td>35787</td>\n",
       "    </tr>\n",
       "    <tr>\n",
       "      <th>3</th>\n",
       "      <td>47646</td>\n",
       "    </tr>\n",
       "    <tr>\n",
       "      <th>4</th>\n",
       "      <td>58265</td>\n",
       "    </tr>\n",
       "    <tr>\n",
       "      <th>5</th>\n",
       "      <td>80827</td>\n",
       "    </tr>\n",
       "    <tr>\n",
       "      <th>6</th>\n",
       "      <td>92274</td>\n",
       "    </tr>\n",
       "    <tr>\n",
       "      <th>7</th>\n",
       "      <td>65510</td>\n",
       "    </tr>\n",
       "    <tr>\n",
       "      <th>8</th>\n",
       "      <td>61466</td>\n",
       "    </tr>\n",
       "    <tr>\n",
       "      <th>9</th>\n",
       "      <td>66101</td>\n",
       "    </tr>\n",
       "    <tr>\n",
       "      <th>10</th>\n",
       "      <td>66581</td>\n",
       "    </tr>\n",
       "    <tr>\n",
       "      <th>11</th>\n",
       "      <td>50694</td>\n",
       "    </tr>\n",
       "    <tr>\n",
       "      <th>12</th>\n",
       "      <td>45574</td>\n",
       "    </tr>\n",
       "  </tbody>\n",
       "</table>\n",
       "</div>"
      ],
      "text/plain": [
       "       Unique Key\n",
       "Month            \n",
       "1           42820\n",
       "2           35787\n",
       "3           47646\n",
       "4           58265\n",
       "5           80827\n",
       "6           92274\n",
       "7           65510\n",
       "8           61466\n",
       "9           66101\n",
       "10          66581\n",
       "11          50694\n",
       "12          45574"
      ]
     },
     "execution_count": 91,
     "metadata": {},
     "output_type": "execute_result"
    }
   ],
   "source": [
    "data.groupby('Month')[['Unique Key']].count()"
   ]
  },
  {
   "cell_type": "code",
   "execution_count": 52,
   "id": "ff30efdd",
   "metadata": {},
   "outputs": [],
   "source": [
    "# Drop 2022 data for yearly graph\n",
    "df_2010_2021 = data.drop(data[data.Year_Month == '2022-02-01'].index)"
   ]
  },
  {
   "cell_type": "code",
   "execution_count": 6,
   "id": "5d80519b",
   "metadata": {},
   "outputs": [],
   "source": [
    "###### line graphs for total # of complaints #######"
   ]
  },
  {
   "cell_type": "code",
   "execution_count": 68,
   "id": "c32f006e",
   "metadata": {},
   "outputs": [],
   "source": [
    "df_2010_2021 = df_2010_2021.groupby('Year_Month')[['Unique Key']].count()"
   ]
  },
  {
   "cell_type": "code",
   "execution_count": 69,
   "id": "68bfb507",
   "metadata": {},
   "outputs": [],
   "source": [
    "df_2010_2021.rename(columns={'Unique Key': 'Total Complaints'}, inplace=True)"
   ]
  },
  {
   "cell_type": "code",
   "execution_count": 70,
   "id": "b694b6b1",
   "metadata": {},
   "outputs": [],
   "source": [
    "df_2010_2021.reset_index(inplace=True)"
   ]
  },
  {
   "cell_type": "code",
   "execution_count": 71,
   "id": "619b9dca",
   "metadata": {},
   "outputs": [],
   "source": [
    "l = [x[:7] for x in df_2010_2021['Year_Month'].astype(str)]"
   ]
  },
  {
   "cell_type": "code",
   "execution_count": 76,
   "id": "418d75fe",
   "metadata": {},
   "outputs": [
    {
     "data": {
      "image/png": "[encoded data removed]",
      "text/plain": [
       "<Figure size 1080x360 with 1 Axes>"
      ]
     },
     "metadata": {},
     "output_type": "display_data"
    }
   ],
   "source": [
    "x = df_2010_2021['Year_Month']\n",
    "y = df_2010_2021['Total Complaints']\n",
    "labels = xlabelsnew\n",
    "\n",
    "plt.plot(x, y)\n",
    "\n",
    "# You can specify a rotation for the tick labels in degrees or with keywords.\n",
    "plt.rcParams[\"figure.figsize\"] = (17,7)\n",
    "\n",
    "plt.xticks(x, labels, rotation='vertical')\n",
    "\n",
    "# Pad margins so that markers don't get clipped by the axes\n",
    "plt.margins(0.01)\n",
    "# Tweak spacing to prevent clipping of tick-labels\n",
    "plt.subplots_adjust(bottom=0.15)\n",
    "plt.tick_params(axis='x', labelrotation = 45)\n",
    "plt.show()\n"
   ]
  },
  {
   "cell_type": "code",
   "execution_count": 73,
   "id": "2a67bdc1",
   "metadata": {},
   "outputs": [],
   "source": [
    "import re\n",
    "xlabelsnew = []\n",
    "for i in l:\n",
    "    if re.search('....-01', i) != None:\n",
    "        xlabelsnew.append(i)\n",
    "    else:\n",
    "        xlabelsnew.append(' ')"
   ]
  },
  {
   "cell_type": "code",
   "execution_count": null,
   "id": "0e151971",
   "metadata": {},
   "outputs": [],
   "source": []
  },
  {
   "cell_type": "code",
   "execution_count": null,
   "id": "7ddb3ed0",
   "metadata": {},
   "outputs": [],
   "source": []
  },
  {
   "cell_type": "code",
   "execution_count": null,
   "id": "7576ccea",
   "metadata": {},
   "outputs": [],
   "source": []
  },
  {
   "cell_type": "code",
   "execution_count": null,
   "id": "fc137bab",
   "metadata": {},
   "outputs": [],
   "source": []
  },
  {
   "cell_type": "code",
   "execution_count": 64,
   "id": "fd758162",
   "metadata": {},
   "outputs": [
    {
     "data": {
      "text/plain": [
       "(716661, 25)"
      ]
     },
     "execution_count": 64,
     "metadata": {},
     "output_type": "execute_result"
    }
   ],
   "source": [
    "data.shape"
   ]
  },
  {
   "cell_type": "code",
   "execution_count": 9,
   "id": "d5b6432f",
   "metadata": {},
   "outputs": [],
   "source": [
    "data_zip_filter = data[data['Incident Zip'].isin(\n",
    "[10003,\n",
    " 10012,\n",
    " 10014,\n",
    " 10013,\n",
    " 10019,\n",
    " 10002,\n",
    " 10011,\n",
    " 10036,\n",
    " 10009,\n",
    " 10016,\n",
    " 10001,\n",
    " 10022,\n",
    " 10010,\n",
    " 10024,\n",
    " 10025])]"
   ]
  },
  {
   "cell_type": "code",
   "execution_count": 10,
   "id": "b777d7a2",
   "metadata": {},
   "outputs": [
    {
     "data": {
      "text/plain": [
       "<AxesSubplot:xlabel='Complaint Type'>"
      ]
     },
     "execution_count": 10,
     "metadata": {},
     "output_type": "execute_result"
    },
    {
     "data": {
      "image/png": "[encoded data removed]",
      "text/plain": [
       "<Figure size 864x432 with 1 Axes>"
      ]
     },
     "metadata": {},
     "output_type": "display_data"
    }
   ],
   "source": [
    "plt.figure(figsize = (12,6))\n",
    "data.groupby('Complaint Type')['Unique Key'].count().sort_values(ascending=False).plot.bar(color = 'b')"
   ]
  },
  {
   "cell_type": "code",
   "execution_count": 11,
   "id": "a2d65f30",
   "metadata": {},
   "outputs": [
    {
     "data": {
      "text/html": [
       "<div>\n",
       "<style scoped>\n",
       "    .dataframe tbody tr th:only-of-type {\n",
       "        vertical-align: middle;\n",
       "    }\n",
       "\n",
       "    .dataframe tbody tr th {\n",
       "        vertical-align: top;\n",
       "    }\n",
       "\n",
       "    .dataframe thead th {\n",
       "        text-align: right;\n",
       "    }\n",
       "</style>\n",
       "<table border=\"1\" class=\"dataframe\">\n",
       "  <thead>\n",
       "    <tr style=\"text-align: right;\">\n",
       "      <th></th>\n",
       "      <th></th>\n",
       "      <th>Unique Key</th>\n",
       "    </tr>\n",
       "    <tr>\n",
       "      <th>year</th>\n",
       "      <th>Incident Zip</th>\n",
       "      <th></th>\n",
       "    </tr>\n",
       "  </thead>\n",
       "  <tbody>\n",
       "    <tr>\n",
       "      <th rowspan=\"4\" valign=\"top\">2020</th>\n",
       "      <th>10032.0</th>\n",
       "      <td>10037</td>\n",
       "    </tr>\n",
       "    <tr>\n",
       "      <th>10034.0</th>\n",
       "      <td>9734</td>\n",
       "    </tr>\n",
       "    <tr>\n",
       "      <th>10031.0</th>\n",
       "      <td>8152</td>\n",
       "    </tr>\n",
       "    <tr>\n",
       "      <th>10040.0</th>\n",
       "      <td>7730</td>\n",
       "    </tr>\n",
       "    <tr>\n",
       "      <th>2018</th>\n",
       "      <th>10040.0</th>\n",
       "      <td>5430</td>\n",
       "    </tr>\n",
       "    <tr>\n",
       "      <th>...</th>\n",
       "      <th>...</th>\n",
       "      <td>...</td>\n",
       "    </tr>\n",
       "    <tr>\n",
       "      <th rowspan=\"3\" valign=\"top\">2017</th>\n",
       "      <th>10115.0</th>\n",
       "      <td>1</td>\n",
       "    </tr>\n",
       "    <tr>\n",
       "      <th>10048.0</th>\n",
       "      <td>1</td>\n",
       "    </tr>\n",
       "    <tr>\n",
       "      <th>10045.0</th>\n",
       "      <td>1</td>\n",
       "    </tr>\n",
       "    <tr>\n",
       "      <th>2016</th>\n",
       "      <th>83</th>\n",
       "      <td>1</td>\n",
       "    </tr>\n",
       "    <tr>\n",
       "      <th>2022</th>\n",
       "      <th>10463</th>\n",
       "      <td>1</td>\n",
       "    </tr>\n",
       "  </tbody>\n",
       "</table>\n",
       "<p>1742 rows × 1 columns</p>\n",
       "</div>"
      ],
      "text/plain": [
       "                   Unique Key\n",
       "year Incident Zip            \n",
       "2020 10032.0            10037\n",
       "     10034.0             9734\n",
       "     10031.0             8152\n",
       "     10040.0             7730\n",
       "2018 10040.0             5430\n",
       "...                       ...\n",
       "2017 10115.0                1\n",
       "     10048.0                1\n",
       "     10045.0                1\n",
       "2016 83                     1\n",
       "2022 10463                  1\n",
       "\n",
       "[1742 rows x 1 columns]"
      ]
     },
     "execution_count": 11,
     "metadata": {},
     "output_type": "execute_result"
    }
   ],
   "source": [
    "data.groupby(['year','Incident Zip'])[['Unique Key']].count().sort_values('Unique Key', ascending=False)"
   ]
  },
  {
   "cell_type": "code",
   "execution_count": 16,
   "id": "b56720c1",
   "metadata": {},
   "outputs": [],
   "source": [
    "data_opendining = data[data['Complaint Type'] == 'Outdoor Dining']"
   ]
  },
  {
   "cell_type": "code",
   "execution_count": 22,
   "id": "61be6fee",
   "metadata": {},
   "outputs": [
    {
     "data": {
      "text/html": [
       "<div>\n",
       "<style scoped>\n",
       "    .dataframe tbody tr th:only-of-type {\n",
       "        vertical-align: middle;\n",
       "    }\n",
       "\n",
       "    .dataframe tbody tr th {\n",
       "        vertical-align: top;\n",
       "    }\n",
       "\n",
       "    .dataframe thead th {\n",
       "        text-align: right;\n",
       "    }\n",
       "</style>\n",
       "<table border=\"1\" class=\"dataframe\">\n",
       "  <thead>\n",
       "    <tr style=\"text-align: right;\">\n",
       "      <th></th>\n",
       "      <th>Unique Key</th>\n",
       "    </tr>\n",
       "    <tr>\n",
       "      <th>Descriptor</th>\n",
       "      <th></th>\n",
       "    </tr>\n",
       "  </thead>\n",
       "  <tbody>\n",
       "    <tr>\n",
       "      <th>Sidewalk Zone Blocked</th>\n",
       "      <td>1211</td>\n",
       "    </tr>\n",
       "    <tr>\n",
       "      <th>Site Setup Condition</th>\n",
       "      <td>973</td>\n",
       "    </tr>\n",
       "    <tr>\n",
       "      <th>Street Zone Blocked</th>\n",
       "      <td>355</td>\n",
       "    </tr>\n",
       "    <tr>\n",
       "      <th>Barrier Condition</th>\n",
       "      <td>299</td>\n",
       "    </tr>\n",
       "    <tr>\n",
       "      <th>Table Not in Compliance</th>\n",
       "      <td>86</td>\n",
       "    </tr>\n",
       "    <tr>\n",
       "      <th>Unauthorized Restaurant</th>\n",
       "      <td>83</td>\n",
       "    </tr>\n",
       "    <tr>\n",
       "      <th>ADA Ramp Missing</th>\n",
       "      <td>5</td>\n",
       "    </tr>\n",
       "    <tr>\n",
       "      <th>Utility Cover Blocked</th>\n",
       "      <td>1</td>\n",
       "    </tr>\n",
       "  </tbody>\n",
       "</table>\n",
       "</div>"
      ],
      "text/plain": [
       "                         Unique Key\n",
       "Descriptor                         \n",
       "Sidewalk Zone Blocked          1211\n",
       "Site Setup Condition            973\n",
       "Street Zone Blocked             355\n",
       "Barrier Condition               299\n",
       "Table Not in Compliance          86\n",
       "Unauthorized Restaurant          83\n",
       "ADA Ramp Missing                  5\n",
       "Utility Cover Blocked             1"
      ]
     },
     "execution_count": 22,
     "metadata": {},
     "output_type": "execute_result"
    }
   ],
   "source": [
    "data_opendining.groupby('Descriptor')[['Unique Key']].count().sort_values('Unique Key', ascending=False)"
   ]
  }
 ],
 "metadata": {
  "kernelspec": {
   "display_name": "Python 3 (ipykernel)",
   "language": "python",
   "name": "python3"
  },
  "language_info": {
   "codemirror_mode": {
    "name": "ipython",
    "version": 3
   },
   "file_extension": ".py",
   "mimetype": "text/x-python",
   "name": "python",
   "nbconvert_exporter": "python",
   "pygments_lexer": "ipython3",
   "version": "3.9.7"
  }
 },
 "nbformat": 4,
 "nbformat_minor": 5
}
